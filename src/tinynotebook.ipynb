{
 "cells": [
  {
   "cell_type": "markdown",
   "metadata": {},
   "source": [
    "# Tiny Jupyter notebook demo\n",
    "Check your VS code setup by loading and running this notebook.\n",
    "You will need Jupyter and Julia to be set-up, and VS Code needs to be able to locate and run a Julia kernel.\n",
    "\n",
    "## Initialize packages"
   ]
  },
  {
   "cell_type": "code",
   "execution_count": 1,
   "metadata": {},
   "outputs": [],
   "source": [
    "using DynLoco\n",
    "using Plots, Statistics"
   ]
  },
  {
   "cell_type": "markdown",
   "metadata": {},
   "source": [
    "## Tiny demo"
   ]
  },
  {
   "cell_type": "code",
   "execution_count": 2,
   "metadata": {},
   "outputs": [
    {
     "data": {
      "application/vnd.webio.node+json": {
       "children": [],
       "instanceArgs": {
        "namespace": "html",
        "tag": "div"
       },
       "nodeType": "DOM",
       "props": {},
       "type": "node"
      },
      "text/html": [
       "<div style=\"padding: 1em; background-color: #f8d6da; border: 1px solid #f5c6cb; font-weight: bold;\">\n",
       "<p>The WebIO Jupyter extension was not detected. See the\n",
       "<a href=\"https://juliagizmos.github.io/WebIO.jl/latest/providers/ijulia/\" target=\"_blank\">\n",
       "    WebIO Jupyter integration documentation\n",
       "</a>\n",
       "for more information.\n",
       "</div>\n"
      ],
      "text/plain": [
       "WebIO._IJuliaInit()"
      ]
     },
     "metadata": {},
     "output_type": "display_data"
    },
    {
     "data": {
      "text/plain": [
       "([0.0, 0.0232424560834802, 0.0464849121669604, 0.0697273682504406, 0.0929698243339208, 0.116212280417401, 0.1394547365008812, 0.1626971925843614, 0.1859396486678416, 0.20918210475132182  …  2.0752926327416934, 2.0987029398579726, 2.1221132469742514, 2.1455235540905306, 2.1689338612068094, 2.1923441683230886, 2.215754475439368, 2.239164782555647, 2.262575089671926, 2.285985396788205], [-0.0, -0.005804726861661722, -0.011612589646233594, -0.01742672597076447, -0.02325027684149581, -0.029086388350746766, -0.03493821337654647, -0.040808913285932995, -0.04670165964283733, -0.05261963592147714  …  0.052473278380286086, 0.04657073463237888, 0.040693714790991556, 0.034838997852499685, 0.029003375036774977, 0.023183648028557886, 0.017376627224564054, 0.011579129985367255, 0.005787978891097335, 0.0], [-0.24972422206418757, -0.24979265493034308, -0.24999799103463996, -0.2503403429151255, -0.2508198982037419, -0.2514369197291617, -0.25219174566083535, -0.25308478969433074, -0.2541165412780668, -0.2552875658815639  …  -0.2527255515422577, -0.2515662791046581, -0.2505448819709832, -0.24966080034664995, -0.24891354969524493, -0.24830272047296495, -0.24782797790415992, -0.24748906179785274, -0.24728578640513724, -0.24721804031737524])"
      ]
     },
     "execution_count": 2,
     "metadata": {},
     "output_type": "execute_result"
    }
   ],
   "source": [
    "plotlyjs() # Use this backend to preserve fonts on export to SVG or PDF\n",
    "default(grid=false, fontfamily=\"Helvetica\") # no grid on plots\n",
    "\n",
    "wstar4 = findgait(WalkRW2l(α=0.35,safety=true), target=:speed=>0.3, varying=:P)\n",
    "step = onestep(wstar4)\n",
    "simulatestep(wstar4)"
   ]
  }
 ],
 "metadata": {
  "kernelspec": {
   "display_name": "Julia 1.8.3",
   "language": "julia",
   "name": "julia-1.8"
  },
  "language_info": {
   "file_extension": ".jl",
   "mimetype": "application/julia",
   "name": "julia",
   "version": "1.8.3"
  },
  "orig_nbformat": 4
 },
 "nbformat": 4,
 "nbformat_minor": 2
}
